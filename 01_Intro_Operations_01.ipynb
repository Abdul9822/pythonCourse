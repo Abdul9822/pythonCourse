{
  "nbformat": 4,
  "nbformat_minor": 0,
  "metadata": {
    "colab": {
      "name": "01_Intro_Operations_01.ipynb",
      "provenance": [],
      "collapsed_sections": [],
      "authorship_tag": "ABX9TyMQ+aAIGcbAHWTMebxQSo1S",
      "include_colab_link": true
    },
    "kernelspec": {
      "name": "python3",
      "display_name": "Python 3"
    },
    "language_info": {
      "name": "python"
    }
  },
  "cells": [
    {
      "cell_type": "markdown",
      "metadata": {
        "id": "view-in-github",
        "colab_type": "text"
      },
      "source": [
        "<a href=\"https://colab.research.google.com/github/dilshadak/pythonCourse/blob/main/01_Intro_Operations_01.ipynb\" target=\"_parent\"><img src=\"https://colab.research.google.com/assets/colab-badge.svg\" alt=\"Open In Colab\"/></a>"
      ]
    },
    {
      "cell_type": "markdown",
      "metadata": {
        "id": "WqwiJRrTDjAe"
      },
      "source": [
        "### **Print in Python**"
      ]
    },
    {
      "cell_type": "code",
      "metadata": {
        "id": "E6LO8y5asynw"
      },
      "source": [
        "print(\"Hello Word\")"
      ],
      "execution_count": null,
      "outputs": []
    },
    {
      "cell_type": "markdown",
      "metadata": {
        "id": "aZgyDZ5EDthB"
      },
      "source": [
        "### **Basic Mathematical Operations in Python**\n",
        "####Line starting with # is comment"
      ]
    },
    {
      "cell_type": "code",
      "metadata": {
        "id": "ik1_Kk94Dlf_"
      },
      "source": [
        "#Addition\n",
        "2 + 3"
      ],
      "execution_count": null,
      "outputs": []
    },
    {
      "cell_type": "code",
      "metadata": {
        "id": "Sb82JiumEy_R"
      },
      "source": [
        "#Subtraction\n",
        "8 - 2"
      ],
      "execution_count": null,
      "outputs": []
    },
    {
      "cell_type": "code",
      "metadata": {
        "id": "6QBfCfhWE1j6"
      },
      "source": [
        "#Division\n",
        "9 / 2"
      ],
      "execution_count": null,
      "outputs": []
    },
    {
      "cell_type": "code",
      "metadata": {
        "id": "8ORy4-KXE8zq"
      },
      "source": [
        "#Multiplication\n",
        "4 * 6"
      ],
      "execution_count": null,
      "outputs": []
    },
    {
      "cell_type": "code",
      "metadata": {
        "id": "NMnOroEYFALq"
      },
      "source": [
        "# Floor division\n",
        "7 // 3"
      ],
      "execution_count": null,
      "outputs": []
    },
    {
      "cell_type": "code",
      "metadata": {
        "id": "pmXDuiYi8ndR"
      },
      "source": [
        "#Remainder\n",
        "7 % 2"
      ],
      "execution_count": null,
      "outputs": []
    }
  ]
}