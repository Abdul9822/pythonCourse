{
 "cells": [
  {
   "cell_type": "markdown",
   "source": [
    "<a href=\"https://colab.research.google.com/github/dilshadak/pythonCourse/blob/main/01_Intro_Operations_01.ipynb\" target=\"_parent\"><img src=\"https://colab.research.google.com/assets/colab-badge.svg\" alt=\"Open In Colab\"/></a>"
   ],
   "metadata": {
    "colab_type": "text",
    "id": "view-in-github"
   }
  },
  {
   "cell_type": "markdown",
   "source": [
    "# Python as Calculator\n",
    "## Line starting with # is comment"
   ],
   "metadata": {
    "id": "aZgyDZ5EDthB"
   }
  },
  {
   "cell_type": "code",
   "execution_count": null,
   "source": [
    "#Addition\r\n",
    "2 + 3"
   ],
   "outputs": [],
   "metadata": {
    "colab": {
     "base_uri": "https://localhost:8080/"
    },
    "id": "ik1_Kk94Dlf_",
    "outputId": "8af4b925-56c2-4afe-f309-1b1dca5bc144"
   }
  },
  {
   "cell_type": "code",
   "execution_count": null,
   "source": [
    "#Subtraction\r\n",
    "8 - 2"
   ],
   "outputs": [],
   "metadata": {
    "id": "Sb82JiumEy_R"
   }
  },
  {
   "cell_type": "code",
   "execution_count": null,
   "source": [
    "#Division\r\n",
    "9 / 2"
   ],
   "outputs": [],
   "metadata": {
    "id": "6QBfCfhWE1j6"
   }
  },
  {
   "cell_type": "code",
   "execution_count": null,
   "source": [
    "#Multiplication\r\n",
    "4 * 6"
   ],
   "outputs": [],
   "metadata": {
    "id": "8ORy4-KXE8zq"
   }
  },
  {
   "cell_type": "code",
   "execution_count": null,
   "source": [
    "# Floor division\r\n",
    "7 // 3"
   ],
   "outputs": [],
   "metadata": {
    "id": "NMnOroEYFALq"
   }
  },
  {
   "cell_type": "code",
   "execution_count": null,
   "source": [
    "#Modulus\r\n",
    "7 % 2"
   ],
   "outputs": [],
   "metadata": {
    "id": "pmXDuiYi8ndR"
   }
  },
  {
   "cell_type": "code",
   "execution_count": null,
   "source": [
    "2 + + + 4"
   ],
   "outputs": [],
   "metadata": {
    "colab": {
     "base_uri": "https://localhost:8080/"
    },
    "id": "UwzXqBRNJhOj",
    "outputId": "f213dcc7-0152-4d7a-b528-4ac346d4a402"
   }
  },
  {
   "cell_type": "code",
   "execution_count": null,
   "source": [
    "8 - + 2"
   ],
   "outputs": [],
   "metadata": {
    "colab": {
     "base_uri": "https://localhost:8080/"
    },
    "id": "8dD60evqJlLj",
    "outputId": "0b211ff3-664d-4271-d234-332d39f470c9"
   }
  },
  {
   "cell_type": "code",
   "execution_count": null,
   "source": [
    "8**2"
   ],
   "outputs": [],
   "metadata": {
    "colab": {
     "base_uri": "https://localhost:8080/"
    },
    "id": "p3DCci6TKajs",
    "outputId": "f4e8da1e-942a-4dce-9204-2abaf8be8eb8"
   }
  },
  {
   "cell_type": "markdown",
   "source": [
    "# Understanding Errors\n",
    "### Python want us to behave in a certain manner, if dont, we stuck"
   ],
   "metadata": {
    "id": "sU8X7DEdHxua"
   }
  },
  {
   "cell_type": "code",
   "execution_count": 1,
   "source": [
    "# Invalid syntax\r\n",
    "2 +\r\n",
    "8 - \r\n",
    "8 -+\r\n",
    "9 / \r\n",
    "7///4\r\n",
    "8***2"
   ],
   "outputs": [
    {
     "output_type": "error",
     "ename": "SyntaxError",
     "evalue": "invalid syntax (<ipython-input-1-706c286ec1ee>, line 2)",
     "traceback": [
      "\u001b[1;36m  File \u001b[1;32m\"<ipython-input-1-706c286ec1ee>\"\u001b[1;36m, line \u001b[1;32m2\u001b[0m\n\u001b[1;33m    2 +\u001b[0m\n\u001b[1;37m       ^\u001b[0m\n\u001b[1;31mSyntaxError\u001b[0m\u001b[1;31m:\u001b[0m invalid syntax\n"
     ]
    }
   ],
   "metadata": {}
  },
  {
   "cell_type": "code",
   "execution_count": null,
   "source": [
    " # Indentation Error\r\n",
    "  2 + 3"
   ],
   "outputs": [],
   "metadata": {
    "colab": {
     "base_uri": "https://localhost:8080/",
     "height": 129
    },
    "id": "r3CoyqhHIAYL",
    "outputId": "1f8cb577-66ed-4114-f9cc-debc6d45883d"
   }
  },
  {
   "cell_type": "code",
   "execution_count": null,
   "source": [
    " # Division by zero\r\n",
    " 12 / 0"
   ],
   "outputs": [],
   "metadata": {
    "colab": {
     "base_uri": "https://localhost:8080/",
     "height": 180
    },
    "id": "HiTizP-KIRl6",
    "outputId": "8fbb4cb1-3134-40e4-e32b-76af0dd5760d"
   }
  },
  {
   "cell_type": "markdown",
   "source": [
    "# Variables\n",
    "### Python shall remember values with some that we can read and python can remember"
   ],
   "metadata": {}
  },
  {
   "cell_type": "code",
   "execution_count": null,
   "source": [
    "a"
   ],
   "outputs": [],
   "metadata": {}
  },
  {
   "cell_type": "code",
   "execution_count": 1,
   "source": [
    "a = 10\r\n",
    "\r\n",
    "b = 20\r\n",
    "\r\n",
    "c = a + b\r\n",
    "\r\n",
    "print(c)\r\n",
    "\r\n",
    "a, b = 2, 3\r\n",
    "\r\n",
    "print(a, b)\r\n",
    "\r\n",
    "a, b = b, a\r\n",
    "\r\n",
    "print(a, b)"
   ],
   "outputs": [
    {
     "output_type": "stream",
     "name": "stdout",
     "text": [
      "30\n",
      "2 3\n",
      "3 2\n"
     ]
    }
   ],
   "metadata": {}
  },
  {
   "cell_type": "markdown",
   "source": [
    "### Variable Names"
   ],
   "metadata": {}
  },
  {
   "cell_type": "code",
   "execution_count": 2,
   "source": [
    "# a = 1\r\n",
    "# _a = 2\r\n",
    "# __a = 3\r\n",
    "____x = 3\r\n",
    "____x\r\n",
    "# _ = 4\r\n",
    "# -a = 5\r\n",
    "# +a = 6\r\n",
    "# @a = 3\r\n",
    "# %a \r\n",
    "# ^a\r\n",
    "1x =3\r\n",
    "# x1 = 3"
   ],
   "outputs": [
    {
     "output_type": "error",
     "ename": "SyntaxError",
     "evalue": "invalid syntax (<ipython-input-2-8a18259ca9c9>, line 12)",
     "traceback": [
      "\u001b[1;36m  File \u001b[1;32m\"<ipython-input-2-8a18259ca9c9>\"\u001b[1;36m, line \u001b[1;32m12\u001b[0m\n\u001b[1;33m    1x =3\u001b[0m\n\u001b[1;37m     ^\u001b[0m\n\u001b[1;31mSyntaxError\u001b[0m\u001b[1;31m:\u001b[0m invalid syntax\n"
     ]
    }
   ],
   "metadata": {}
  },
  {
   "cell_type": "markdown",
   "source": [
    "### Assignment operators"
   ],
   "metadata": {}
  },
  {
   "cell_type": "code",
   "execution_count": 1,
   "source": [
    "x = 5\r\n",
    "x = x + 3\r\n",
    "x +=3\r\n",
    "\r\n",
    "x -=3\r\n",
    "\r\n",
    "x *=3\r\n",
    "\r\n",
    "x /=3\r\n",
    "\r\n",
    "x %=3\r\n",
    "\r\n",
    "x //3=3\r\n",
    "\r\n",
    "x **=3\r\n"
   ],
   "outputs": [
    {
     "output_type": "error",
     "ename": "SyntaxError",
     "evalue": "cannot assign to operator (<ipython-input-1-82a7faf9448e>, line 13)",
     "traceback": [
      "\u001b[1;36m  File \u001b[1;32m\"<ipython-input-1-82a7faf9448e>\"\u001b[1;36m, line \u001b[1;32m13\u001b[0m\n\u001b[1;33m    x //3=3\u001b[0m\n\u001b[1;37m    ^\u001b[0m\n\u001b[1;31mSyntaxError\u001b[0m\u001b[1;31m:\u001b[0m cannot assign to operator\n"
     ]
    }
   ],
   "metadata": {}
  },
  {
   "cell_type": "markdown",
   "source": [
    "### Printing on terminal"
   ],
   "metadata": {}
  },
  {
   "cell_type": "code",
   "execution_count": 2,
   "source": [
    "print('Hello')"
   ],
   "outputs": [
    {
     "output_type": "stream",
     "name": "stdout",
     "text": [
      "Hello\n"
     ]
    }
   ],
   "metadata": {}
  },
  {
   "cell_type": "code",
   "execution_count": null,
   "source": [],
   "outputs": [],
   "metadata": {}
  }
 ],
 "metadata": {
  "colab": {
   "authorship_tag": "ABX9TyMyftZaX2b7EPkf+kWI39CZ",
   "collapsed_sections": [],
   "include_colab_link": true,
   "name": "01_Intro_Operations_01.ipynb",
   "provenance": []
  },
  "kernelspec": {
   "name": "python3",
   "display_name": "Python 3.8.7 64-bit (system)"
  },
  "language_info": {
   "codemirror_mode": {
    "name": "ipython",
    "version": 3
   },
   "file_extension": ".py",
   "mimetype": "text/x-python",
   "name": "python",
   "nbconvert_exporter": "python",
   "pygments_lexer": "ipython3",
   "version": "3.8.7"
  },
  "interpreter": {
   "hash": "ef35354d82397584f27d83d421f20ad793cad76ac7a25312cbe586add919b453"
  }
 },
 "nbformat": 4,
 "nbformat_minor": 1
}