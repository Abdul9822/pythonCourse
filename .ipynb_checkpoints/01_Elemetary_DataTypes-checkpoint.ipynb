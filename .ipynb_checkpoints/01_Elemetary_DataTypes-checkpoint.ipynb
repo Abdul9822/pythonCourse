{
  "nbformat": 4,
  "nbformat_minor": 0,
  "metadata": {
    "colab": {
      "name": "01_Intro_Operations_01.ipynb",
      "provenance": [],
      "collapsed_sections": [],
      "include_colab_link": true
    },
    "kernelspec": {
      "display_name": "Python 3",
      "language": "python",
      "name": "python3"
    },
    "language_info": {
      "codemirror_mode": {
        "name": "ipython",
        "version": 3
      },
      "file_extension": ".py",
      "mimetype": "text/x-python",
      "name": "python",
      "nbconvert_exporter": "python",
      "pygments_lexer": "ipython3",
      "version": "3.8.7"
    }
  },
  "cells": [
    {
      "cell_type": "markdown",
      "metadata": {
        "id": "view-in-github",
        "colab_type": "text"
      },
      "source": [
        "<a href=\"https://colab.research.google.com/github/dilshadak/pythonCourse/blob/main/.ipynb_checkpoints/01_Elemetary_DataTypes-checkpoint.ipynb\" target=\"_parent\"><img src=\"https://colab.research.google.com/assets/colab-badge.svg\" alt=\"Open In Colab\"/></a>"
      ]
    },
    {
      "cell_type": "markdown",
      "metadata": {
        "id": "aZgyDZ5EDthB"
      },
      "source": [
        "### **Python as Calculator**\n",
        "####Line starting with # is comment"
      ]
    },
    {
      "cell_type": "code",
      "metadata": {
        "id": "ik1_Kk94Dlf_"
      },
      "source": [
        "#Addition\n",
        "2 + 3"
      ],
      "execution_count": null,
      "outputs": []
    },
    {
      "cell_type": "code",
      "metadata": {
        "id": "Sb82JiumEy_R"
      },
      "source": [
        "#Subtraction\n",
        "8 - 2"
      ],
      "execution_count": null,
      "outputs": []
    },
    {
      "cell_type": "code",
      "metadata": {
        "id": "6QBfCfhWE1j6"
      },
      "source": [
        "#Division\n",
        "9 / 2"
      ],
      "execution_count": null,
      "outputs": []
    },
    {
      "cell_type": "code",
      "metadata": {
        "id": "8ORy4-KXE8zq"
      },
      "source": [
        "#Multiplication\n",
        "4 * 6"
      ],
      "execution_count": null,
      "outputs": []
    },
    {
      "cell_type": "code",
      "metadata": {
        "id": "NMnOroEYFALq"
      },
      "source": [
        "# Floor division\n",
        "7 // 3"
      ],
      "execution_count": null,
      "outputs": []
    },
    {
      "cell_type": "code",
      "metadata": {
        "id": "pmXDuiYi8ndR"
      },
      "source": [
        "#Remainder\n",
        "7 % 2"
      ],
      "execution_count": null,
      "outputs": []
    },
    {
      "cell_type": "code",
      "metadata": {
        "id": "UwzXqBRNJhOj"
      },
      "source": [
        "2 + + + 4"
      ],
      "execution_count": null,
      "outputs": []
    },
    {
      "cell_type": "code",
      "metadata": {
        "id": "8dD60evqJlLj"
      },
      "source": [
        "8 - + 2"
      ],
      "execution_count": null,
      "outputs": []
    },
    {
      "cell_type": "code",
      "metadata": {
        "id": "p3DCci6TKajs"
      },
      "source": [
        "8**2"
      ],
      "execution_count": null,
      "outputs": []
    },
    {
      "cell_type": "markdown",
      "metadata": {
        "id": "sU8X7DEdHxua"
      },
      "source": [
        "### **Understanding Errors**"
      ]
    },
    {
      "cell_type": "code",
      "metadata": {
        "id": "7a78oHg7sqm-"
      },
      "source": [
        "# Invalid syntax\n",
        "2 +\n",
        "8 - \n",
        "8 -+\n",
        "9 / \n",
        "7///4"
      ],
      "execution_count": null,
      "outputs": []
    },
    {
      "cell_type": "code",
      "metadata": {
        "id": "r3CoyqhHIAYL"
      },
      "source": [
        " # Indentation Error\n",
        "  2 + 3"
      ],
      "execution_count": null,
      "outputs": []
    },
    {
      "cell_type": "code",
      "metadata": {
        "id": "HiTizP-KIRl6"
      },
      "source": [
        " # Division by zero\n",
        " 12 / 0"
      ],
      "execution_count": null,
      "outputs": []
    },
    {
      "cell_type": "markdown",
      "metadata": {
        "id": "kubND8zBsqnA"
      },
      "source": [
        "### Data Types in Python"
      ]
    },
    {
      "cell_type": "code",
      "metadata": {
        "id": "Dv7rbGS9sqnB"
      },
      "source": [
        "# Numeric\n",
        "#1. Int (Integer)\n",
        "1\n",
        "10\n",
        "123"
      ],
      "execution_count": null,
      "outputs": []
    },
    {
      "cell_type": "code",
      "metadata": {
        "id": "aE_qgj5jsqnB"
      },
      "source": [
        "#Float\n",
        "1.234\n",
        "0.0123\n",
        "0.123.123.\n"
      ],
      "execution_count": null,
      "outputs": []
    },
    {
      "cell_type": "code",
      "metadata": {
        "id": "GphIKCR-KeQz"
      },
      "source": [
        "# Complex Numbers\n",
        "1 + 2j\n",
        "0.23 - 0.23j\n",
        "3 + 4i"
      ],
      "execution_count": null,
      "outputs": []
    },
    {
      "cell_type": "code",
      "metadata": {
        "id": "AYvn9A1-sqnC"
      },
      "source": [
        "#Boolean (True/False)\n",
        "True\n",
        "False\n",
        "\n",
        "true\n",
        "\n",
        "false\n",
        "\n",
        "FALSE\n",
        "\n",
        "TRUE"
      ],
      "execution_count": null,
      "outputs": []
    },
    {
      "cell_type": "code",
      "metadata": {
        "id": "AQGBKZHTsqnC"
      },
      "source": [
        "# String\n",
        "hi\n",
        "'hi'\n",
        "'''hi'''\n",
        "\"hi\"\n",
        "\"\"\"hi\"\"\""
      ],
      "execution_count": null,
      "outputs": []
    },
    {
      "cell_type": "code",
      "metadata": {
        "id": "RKvOD21XsqnD"
      },
      "source": [
        "# Sequesnce Type\n",
        "range, tuple, list"
      ],
      "execution_count": null,
      "outputs": []
    }
  ]
}