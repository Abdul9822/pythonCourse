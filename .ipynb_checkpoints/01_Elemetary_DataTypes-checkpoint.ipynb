{
 "cells": [
  {
   "cell_type": "markdown",
   "metadata": {
    "colab_type": "text",
    "id": "view-in-github"
   },
   "source": [
    "<a href=\"https://colab.research.google.com/github/dilshadak/pythonCourse/blob/main/01_Intro_Operations_01.ipynb\" target=\"_parent\"><img src=\"https://colab.research.google.com/assets/colab-badge.svg\" alt=\"Open In Colab\"/></a>"
   ]
  },
  {
   "cell_type": "markdown",
   "metadata": {
    "id": "aZgyDZ5EDthB"
   },
   "source": [
    "### **Python as Calculator**\n",
    "####Line starting with # is comment"
   ]
  },
  {
   "cell_type": "code",
   "execution_count": null,
   "metadata": {
    "colab": {
     "base_uri": "https://localhost:8080/"
    },
    "id": "ik1_Kk94Dlf_",
    "outputId": "8af4b925-56c2-4afe-f309-1b1dca5bc144"
   },
   "outputs": [],
   "source": [
    "#Addition\n",
    "2 + 3"
   ]
  },
  {
   "cell_type": "code",
   "execution_count": null,
   "metadata": {
    "id": "Sb82JiumEy_R"
   },
   "outputs": [],
   "source": [
    "#Subtraction\n",
    "8 - 2"
   ]
  },
  {
   "cell_type": "code",
   "execution_count": null,
   "metadata": {
    "id": "6QBfCfhWE1j6"
   },
   "outputs": [],
   "source": [
    "#Division\n",
    "9 / 2"
   ]
  },
  {
   "cell_type": "code",
   "execution_count": null,
   "metadata": {
    "id": "8ORy4-KXE8zq"
   },
   "outputs": [],
   "source": [
    "#Multiplication\n",
    "4 * 6"
   ]
  },
  {
   "cell_type": "code",
   "execution_count": null,
   "metadata": {
    "id": "NMnOroEYFALq"
   },
   "outputs": [],
   "source": [
    "# Floor division\n",
    "7 // 3"
   ]
  },
  {
   "cell_type": "code",
   "execution_count": null,
   "metadata": {
    "id": "pmXDuiYi8ndR"
   },
   "outputs": [],
   "source": [
    "#Remainder\n",
    "7 % 2"
   ]
  },
  {
   "cell_type": "code",
   "execution_count": null,
   "metadata": {
    "colab": {
     "base_uri": "https://localhost:8080/"
    },
    "id": "UwzXqBRNJhOj",
    "outputId": "f213dcc7-0152-4d7a-b528-4ac346d4a402"
   },
   "outputs": [],
   "source": [
    "2 + + + 4"
   ]
  },
  {
   "cell_type": "code",
   "execution_count": null,
   "metadata": {
    "colab": {
     "base_uri": "https://localhost:8080/"
    },
    "id": "8dD60evqJlLj",
    "outputId": "0b211ff3-664d-4271-d234-332d39f470c9"
   },
   "outputs": [],
   "source": [
    "8 - + 2"
   ]
  },
  {
   "cell_type": "code",
   "execution_count": null,
   "metadata": {
    "colab": {
     "base_uri": "https://localhost:8080/"
    },
    "id": "p3DCci6TKajs",
    "outputId": "f4e8da1e-942a-4dce-9204-2abaf8be8eb8"
   },
   "outputs": [],
   "source": [
    "8**2"
   ]
  },
  {
   "cell_type": "markdown",
   "metadata": {
    "id": "sU8X7DEdHxua"
   },
   "source": [
    "### **Understanding Errors**"
   ]
  },
  {
   "cell_type": "code",
   "execution_count": null,
   "metadata": {},
   "outputs": [],
   "source": [
    "# Invalid syntax\n",
    "2 +\n",
    "8 - \n",
    "8 -+\n",
    "9 / \n",
    "7///4"
   ]
  },
  {
   "cell_type": "code",
   "execution_count": null,
   "metadata": {
    "colab": {
     "base_uri": "https://localhost:8080/",
     "height": 129
    },
    "id": "r3CoyqhHIAYL",
    "outputId": "1f8cb577-66ed-4114-f9cc-debc6d45883d"
   },
   "outputs": [],
   "source": [
    " # Indentation Error\n",
    "  2 + 3"
   ]
  },
  {
   "cell_type": "code",
   "execution_count": null,
   "metadata": {
    "colab": {
     "base_uri": "https://localhost:8080/",
     "height": 180
    },
    "id": "HiTizP-KIRl6",
    "outputId": "8fbb4cb1-3134-40e4-e32b-76af0dd5760d"
   },
   "outputs": [],
   "source": [
    " # Division by zero\n",
    " 12 / 0"
   ]
  },
  {
   "cell_type": "markdown",
   "metadata": {},
   "source": [
    "### Data Types in Python"
   ]
  },
  {
   "cell_type": "code",
   "execution_count": null,
   "metadata": {},
   "outputs": [],
   "source": [
    "# Numeric\n",
    "#1. Int (Integer)\n",
    "1\n",
    "10\n",
    "123"
   ]
  },
  {
   "cell_type": "code",
   "execution_count": null,
   "metadata": {},
   "outputs": [],
   "source": [
    "#Float\n",
    "1.234\n",
    "0.0123\n",
    "0.123.123.\n"
   ]
  },
  {
   "cell_type": "code",
   "execution_count": null,
   "metadata": {
    "id": "GphIKCR-KeQz"
   },
   "outputs": [],
   "source": [
    "# Complex Numbers\n",
    "1 + 2j\n",
    "0.23 - 0.23j\n",
    "3 + 4i"
   ]
  },
  {
   "cell_type": "code",
   "execution_count": null,
   "metadata": {},
   "outputs": [],
   "source": [
    "#Boolean (True/False)\n",
    "True\n",
    "False\n",
    "\n",
    "true\n",
    "\n",
    "false\n",
    "\n",
    "FALSE\n",
    "\n",
    "TRUE"
   ]
  },
  {
   "cell_type": "code",
   "execution_count": null,
   "metadata": {},
   "outputs": [],
   "source": [
    "# String\n",
    "hi\n",
    "'hi'\n",
    "'''hi'''\n",
    "\"hi\"\n",
    "\"\"\"hi\"\"\""
   ]
  },
  {
   "cell_type": "code",
   "execution_count": null,
   "metadata": {},
   "outputs": [],
   "source": [
    "# Sequesnce Type\n",
    "range, tuple, list"
   ]
  }
 ],
 "metadata": {
  "colab": {
   "authorship_tag": "ABX9TyMyftZaX2b7EPkf+kWI39CZ",
   "collapsed_sections": [],
   "include_colab_link": true,
   "name": "01_Intro_Operations_01.ipynb",
   "provenance": []
  },
  "kernelspec": {
   "display_name": "Python 3",
   "language": "python",
   "name": "python3"
  },
  "language_info": {
   "codemirror_mode": {
    "name": "ipython",
    "version": 3
   },
   "file_extension": ".py",
   "mimetype": "text/x-python",
   "name": "python",
   "nbconvert_exporter": "python",
   "pygments_lexer": "ipython3",
   "version": "3.8.7"
  }
 },
 "nbformat": 4,
 "nbformat_minor": 1
}
