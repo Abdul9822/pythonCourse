{
 "cells": [
  {
   "cell_type": "markdown",
   "metadata": {
    "colab_type": "text",
    "id": "view-in-github"
   },
   "source": [
    "<a href=\"https://colab.research.google.com/github/dilshadak/pythonCourse/blob/main/01_Elemetary_Operations_01.ipynb\" target=\"_parent\"><img src=\"https://colab.research.google.com/assets/colab-badge.svg\" alt=\"Open In Colab\"/></a>"
   ]
  },
  {
   "cell_type": "markdown",
   "metadata": {
    "id": "WqwiJRrTDjAe"
   },
   "source": [
    "### **Print in Python**"
   ]
  },
  {
   "cell_type": "code",
   "execution_count": null,
   "metadata": {
    "id": "E6LO8y5asynw"
   },
   "outputs": [],
   "source": [
    "print(\"Hello Word\")"
   ]
  },
  {
   "cell_type": "markdown",
   "metadata": {
    "id": "aZgyDZ5EDthB"
   },
   "source": [
    "### **Basic Mathematical Operations in Python**\n",
    "####Line starting with # is comment"
   ]
  },
  {
   "cell_type": "code",
   "execution_count": null,
   "metadata": {
    "id": "ik1_Kk94Dlf_"
   },
   "outputs": [],
   "source": [
    "#Addition\n",
    "2 + 3"
   ]
  },
  {
   "cell_type": "code",
   "execution_count": null,
   "metadata": {
    "id": "Sb82JiumEy_R"
   },
   "outputs": [],
   "source": [
    "#Subtraction\n",
    "8 - 2"
   ]
  },
  {
   "cell_type": "code",
   "execution_count": null,
   "metadata": {
    "id": "6QBfCfhWE1j6"
   },
   "outputs": [],
   "source": [
    "#Division\n",
    "9 / 2"
   ]
  },
  {
   "cell_type": "code",
   "execution_count": null,
   "metadata": {
    "id": "8ORy4-KXE8zq"
   },
   "outputs": [],
   "source": [
    "#Multiplication\n",
    "4 * 6"
   ]
  },
  {
   "cell_type": "code",
   "execution_count": null,
   "metadata": {
    "id": "NMnOroEYFALq"
   },
   "outputs": [],
   "source": [
    "# Floor division\n",
    "7 // 3"
   ]
  },
  {
   "cell_type": "code",
   "execution_count": null,
   "metadata": {
    "id": "pmXDuiYi8ndR"
   },
   "outputs": [],
   "source": [
    "#Remainder\n",
    "7 % 2"
   ]
  }
 ],
 "metadata": {
  "colab": {
   "authorship_tag": "ABX9TyMQ+aAIGcbAHWTMebxQSo1S",
   "collapsed_sections": [],
   "include_colab_link": true,
   "name": "01_Intro_Operations_01.ipynb",
   "provenance": []
  },
  "kernelspec": {
   "display_name": "Python 3",
   "language": "python",
   "name": "python3"
  },
  "language_info": {
   "codemirror_mode": {
    "name": "ipython",
    "version": 3
   },
   "file_extension": ".py",
   "mimetype": "text/x-python",
   "name": "python",
   "nbconvert_exporter": "python",
   "pygments_lexer": "ipython3",
   "version": "3.8.7"
  }
 },
 "nbformat": 4,
 "nbformat_minor": 1
}
