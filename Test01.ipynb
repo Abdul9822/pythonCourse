{
  "nbformat": 4,
  "nbformat_minor": 0,
  "metadata": {
    "colab": {
      "name": "Test01.ipynb",
      "provenance": [],
      "collapsed_sections": [],
      "authorship_tag": "ABX9TyPULHEsGC+I7zjrhHoNrUAr",
      "include_colab_link": true
    },
    "kernelspec": {
      "name": "python3",
      "display_name": "Python 3"
    },
    "language_info": {
      "name": "python"
    }
  },
  "cells": [
    {
      "cell_type": "markdown",
      "metadata": {
        "id": "view-in-github",
        "colab_type": "text"
      },
      "source": [
        "<a href=\"https://colab.research.google.com/github/dilshadak/pythonCourse/blob/main/Test01.ipynb\" target=\"_parent\"><img src=\"https://colab.research.google.com/assets/colab-badge.svg\" alt=\"Open In Colab\"/></a>"
      ]
    },
    {
      "cell_type": "markdown",
      "metadata": {
        "id": "WqwiJRrTDjAe"
      },
      "source": [
        "### **Print in Python**"
      ]
    },
    {
      "cell_type": "code",
      "metadata": {
        "id": "E6LO8y5asynw",
        "colab": {
          "base_uri": "https://localhost:8080/"
        },
        "outputId": "7e63e843-7ea3-40c6-a36c-615177caa56e"
      },
      "source": [
        "print(\"Hello Word\")"
      ],
      "execution_count": null,
      "outputs": [
        {
          "output_type": "stream",
          "text": [
            "Hello Word\n"
          ],
          "name": "stdout"
        }
      ]
    },
    {
      "cell_type": "markdown",
      "metadata": {
        "id": "aZgyDZ5EDthB"
      },
      "source": [
        "### **Basic Mathematical Operations in Python**\n",
        "####Line starting with # is comment"
      ]
    },
    {
      "cell_type": "code",
      "metadata": {
        "colab": {
          "base_uri": "https://localhost:8080/"
        },
        "id": "ik1_Kk94Dlf_",
        "outputId": "1007f6cd-8f4a-420b-d073-5d3cfb2aad40"
      },
      "source": [
        "#Addition\n",
        "2 + 3"
      ],
      "execution_count": null,
      "outputs": [
        {
          "output_type": "execute_result",
          "data": {
            "text/plain": [
              "5"
            ]
          },
          "metadata": {},
          "execution_count": 7
        }
      ]
    },
    {
      "cell_type": "code",
      "metadata": {
        "colab": {
          "base_uri": "https://localhost:8080/"
        },
        "id": "Sb82JiumEy_R",
        "outputId": "8e74da29-deed-4a06-866f-3e7776855d44"
      },
      "source": [
        "#Subtraction\n",
        "8 - 2"
      ],
      "execution_count": null,
      "outputs": [
        {
          "output_type": "execute_result",
          "data": {
            "text/plain": [
              "6"
            ]
          },
          "metadata": {},
          "execution_count": 10
        }
      ]
    },
    {
      "cell_type": "code",
      "metadata": {
        "colab": {
          "base_uri": "https://localhost:8080/"
        },
        "id": "6QBfCfhWE1j6",
        "outputId": "737bc26b-4a6d-4cab-9f2a-115a3036275f"
      },
      "source": [
        "#Division\n",
        "9 / 2"
      ],
      "execution_count": null,
      "outputs": [
        {
          "output_type": "execute_result",
          "data": {
            "text/plain": [
              "4.5"
            ]
          },
          "metadata": {},
          "execution_count": 9
        }
      ]
    },
    {
      "cell_type": "code",
      "metadata": {
        "colab": {
          "base_uri": "https://localhost:8080/"
        },
        "id": "8ORy4-KXE8zq",
        "outputId": "89509abb-cd96-4a38-9ccb-8b3a7dbba720"
      },
      "source": [
        "#Multiplication\n",
        "4 * 6"
      ],
      "execution_count": null,
      "outputs": [
        {
          "output_type": "execute_result",
          "data": {
            "text/plain": [
              "24"
            ]
          },
          "metadata": {},
          "execution_count": 11
        }
      ]
    },
    {
      "cell_type": "code",
      "metadata": {
        "id": "NMnOroEYFALq"
      },
      "source": [
        ""
      ],
      "execution_count": null,
      "outputs": []
    }
  ]
}