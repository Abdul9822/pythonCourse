{
  "nbformat": 4,
  "nbformat_minor": 0,
  "metadata": {
    "colab": {
      "name": "02_Elemetary_DataTypes.ipynb",
      "provenance": [],
      "collapsed_sections": [],
      "include_colab_link": true
    },
    "kernelspec": {
      "display_name": "Python 3",
      "language": "python",
      "name": "python3"
    },
    "language_info": {
      "codemirror_mode": {
        "name": "ipython",
        "version": 3
      },
      "file_extension": ".py",
      "mimetype": "text/x-python",
      "name": "python",
      "nbconvert_exporter": "python",
      "pygments_lexer": "ipython3",
      "version": "3.8.7"
    }
  },
  "cells": [
    {
      "cell_type": "markdown",
      "metadata": {
        "id": "view-in-github",
        "colab_type": "text"
      },
      "source": [
        "<a href=\"https://colab.research.google.com/github/dilshadak/pythonCourse/blob/main/02_Elemetary_DataTypes.ipynb\" target=\"_parent\"><img src=\"https://colab.research.google.com/assets/colab-badge.svg\" alt=\"Open In Colab\"/></a>"
      ]
    },
    {
      "cell_type": "markdown",
      "metadata": {
        "id": "wAV92FuTs7n3"
      },
      "source": [
        "# Data Types in Python"
      ]
    },
    {
      "cell_type": "markdown",
      "metadata": {
        "id": "ttAVAGWos7n7"
      },
      "source": [
        "## Numeric"
      ]
    },
    {
      "cell_type": "code",
      "metadata": {
        "id": "PAP1q9ibs7n_"
      },
      "source": [
        "#Int (Integer)\n",
        "1\n",
        "10\n",
        "123\n",
        "type(123)"
      ],
      "execution_count": null,
      "outputs": []
    },
    {
      "cell_type": "code",
      "metadata": {
        "id": "T134o6rIs7oE"
      },
      "source": [
        "#Float\n",
        "1.234\n",
        "0.0123\n",
        "0.123.123.\n"
      ],
      "execution_count": null,
      "outputs": []
    },
    {
      "cell_type": "code",
      "metadata": {
        "id": "GphIKCR-KeQz"
      },
      "source": [
        "# Complex Numbers\n",
        "1 + 2j\n",
        "0.23 - 0.23j\n",
        "3 + 4i"
      ],
      "execution_count": null,
      "outputs": []
    },
    {
      "cell_type": "markdown",
      "metadata": {
        "id": "hNQdMEG_s7oJ"
      },
      "source": [
        "## Boolean"
      ]
    },
    {
      "cell_type": "code",
      "metadata": {
        "id": "iaDJZ29Ss7oN"
      },
      "source": [
        "#Boolean (True/False)\n",
        "True\n",
        "\n",
        "False\n",
        "\n",
        "true\n",
        "\n",
        "false\n",
        "\n",
        "FALSE\n",
        "\n",
        "TRUE"
      ],
      "execution_count": null,
      "outputs": []
    },
    {
      "cell_type": "code",
      "metadata": {
        "id": "otu9latbs7oS"
      },
      "source": [
        "# String\n",
        "hi\n",
        "'hi'\n",
        "'''hi'''\n",
        "\"hi\"\n",
        "\"\"\"hi\"\"\""
      ],
      "execution_count": null,
      "outputs": []
    },
    {
      "cell_type": "markdown",
      "metadata": {
        "id": "HyuELL45s7oX"
      },
      "source": [
        "## Sequence Type"
      ]
    },
    {
      "cell_type": "code",
      "metadata": {
        "id": "vCm04SVHs7oY"
      },
      "source": [
        "# List\n",
        "[]\n",
        "[1,2,3]\n",
        "['a',2,\"b\", True]\n",
        "[1,'a',[2,3,'b'],[2,['a']]]\n",
        "\n",
        "type([])"
      ],
      "execution_count": null,
      "outputs": []
    },
    {
      "cell_type": "code",
      "metadata": {
        "id": "SqV05L8As7oa"
      },
      "source": [
        "# tuple\n",
        "()\n",
        "(1)\n",
        "(2,)\n",
        "(1,2)\n",
        "(1,2,3)\n",
        "(1,'a',2)\n",
        "(1,2,(2,3,4))\n",
        "(1,2,'a',[],3)\n"
      ],
      "execution_count": null,
      "outputs": []
    },
    {
      "cell_type": "markdown",
      "metadata": {
        "id": "dO04SWIds7ob"
      },
      "source": [
        "## Mutable and Immutable"
      ]
    },
    {
      "cell_type": "code",
      "metadata": {
        "id": "-1VRke8os7od"
      },
      "source": [
        "# Lists are Mutable\n",
        "x = [1,2]\n",
        "print(x)\n",
        "y = x\n",
        "y.append(3)\n",
        "\n",
        "print(x)\n",
        "print(y)"
      ],
      "execution_count": null,
      "outputs": []
    },
    {
      "cell_type": "code",
      "metadata": {
        "id": "S-K333bOs7of"
      },
      "source": [
        "#Immutable\n",
        "x = (1,2)\n",
        "print(x)\n",
        "y = x\n",
        "y[0] = 3\n",
        "\n",
        "print(x)\n",
        "print(y)\n"
      ],
      "execution_count": null,
      "outputs": []
    },
    {
      "cell_type": "code",
      "metadata": {
        "id": "1u_vu4D8s7og"
      },
      "source": [
        ""
      ],
      "execution_count": null,
      "outputs": []
    }
  ]
}