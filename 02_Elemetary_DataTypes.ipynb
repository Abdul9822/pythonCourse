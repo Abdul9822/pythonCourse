{
  "nbformat": 4,
  "nbformat_minor": 0,
  "metadata": {
    "colab": {
      "name": "02_Elemetary_DataTypes.ipynb",
      "provenance": [],
      "collapsed_sections": [],
      "include_colab_link": true
    },
    "kernelspec": {
      "display_name": "Python 3",
      "language": "python",
      "name": "python3"
    },
    "language_info": {
      "codemirror_mode": {
        "name": "ipython",
        "version": 3
      },
      "file_extension": ".py",
      "mimetype": "text/x-python",
      "name": "python",
      "nbconvert_exporter": "python",
      "pygments_lexer": "ipython3",
      "version": "3.8.7"
    }
  },
  "cells": [
    {
      "cell_type": "markdown",
      "metadata": {
        "id": "view-in-github",
        "colab_type": "text"
      },
      "source": [
        "<a href=\"https://colab.research.google.com/github/dilshadak/pythonCourse/blob/main/02_Elemetary_DataTypes.ipynb\" target=\"_parent\"><img src=\"https://colab.research.google.com/assets/colab-badge.svg\" alt=\"Open In Colab\"/></a>"
      ]
    },
    {
      "cell_type": "markdown",
      "metadata": {
        "id": "aX14zRVJO4F3"
      },
      "source": [
        "# Data Types in Python\n",
        "### Our job is to take information from the real world and put it into computer. "
      ]
    },
    {
      "cell_type": "markdown",
      "metadata": {
        "id": "VDVzB1n0O4F7"
      },
      "source": [
        "## Numeric"
      ]
    },
    {
      "cell_type": "code",
      "metadata": {
        "id": "zs8vPen9O4F8"
      },
      "source": [
        "#Int (Integer)\n",
        "1\n",
        "10\n",
        "123\n",
        "type(123)"
      ],
      "execution_count": null,
      "outputs": []
    },
    {
      "cell_type": "code",
      "metadata": {
        "id": "4vwwgEt1O4F_"
      },
      "source": [
        "#Float\n",
        "1.234\n",
        "0.0123\n",
        "0.123.123.\n"
      ],
      "execution_count": null,
      "outputs": []
    },
    {
      "cell_type": "code",
      "metadata": {
        "id": "GphIKCR-KeQz"
      },
      "source": [
        "# Complex Numbers\n",
        "1 + 2j\n",
        "0.23 - 0.23j\n",
        "3 + 4i"
      ],
      "execution_count": null,
      "outputs": []
    },
    {
      "cell_type": "markdown",
      "metadata": {
        "id": "Y1wGYH2JO4GB"
      },
      "source": [
        "## String"
      ]
    },
    {
      "cell_type": "code",
      "metadata": {
        "id": "EVphXCLbO4GC",
        "outputId": "b504a12f-5a72-4d78-fc26-4e6d64eb3fa5"
      },
      "source": [
        "# String\n",
        "hi\n",
        "'hi'\n",
        "'''hi'''\n",
        "\"hi\"\n",
        "\"\"\"hi\"\"\""
      ],
      "execution_count": null,
      "outputs": [
        {
          "ename": "NameError",
          "evalue": "name 'hi' is not defined",
          "output_type": "error",
          "traceback": [
            "\u001b[1;31m---------------------------------------------------------------------------\u001b[0m",
            "\u001b[1;31mNameError\u001b[0m                                 Traceback (most recent call last)",
            "\u001b[1;32m<ipython-input-1-018ffc42fe43>\u001b[0m in \u001b[0;36m<module>\u001b[1;34m\u001b[0m\n\u001b[0;32m      1\u001b[0m \u001b[1;31m# String\u001b[0m\u001b[1;33m\u001b[0m\u001b[1;33m\u001b[0m\u001b[1;33m\u001b[0m\u001b[0m\n\u001b[1;32m----> 2\u001b[1;33m \u001b[0mhi\u001b[0m\u001b[1;33m\u001b[0m\u001b[1;33m\u001b[0m\u001b[0m\n\u001b[0m\u001b[0;32m      3\u001b[0m \u001b[1;34m'hi'\u001b[0m\u001b[1;33m\u001b[0m\u001b[1;33m\u001b[0m\u001b[0m\n\u001b[0;32m      4\u001b[0m \u001b[1;34m'''hi'''\u001b[0m\u001b[1;33m\u001b[0m\u001b[1;33m\u001b[0m\u001b[0m\n\u001b[0;32m      5\u001b[0m \u001b[1;34m\"hi\"\u001b[0m\u001b[1;33m\u001b[0m\u001b[1;33m\u001b[0m\u001b[0m\n",
            "\u001b[1;31mNameError\u001b[0m: name 'hi' is not defined"
          ]
        }
      ]
    },
    {
      "cell_type": "markdown",
      "metadata": {
        "id": "m37A3wXgO4GF"
      },
      "source": [
        "## Boolean"
      ]
    },
    {
      "cell_type": "code",
      "metadata": {
        "id": "8Bs1iIBlO4GG"
      },
      "source": [
        "#Boolean (True/False)\n",
        "True\n",
        "\n",
        "False\n",
        "\n",
        "true\n",
        "\n",
        "false\n",
        "\n",
        "FALSE\n",
        "\n",
        "TRUE"
      ],
      "execution_count": null,
      "outputs": []
    },
    {
      "cell_type": "markdown",
      "metadata": {
        "id": "GzRtHJWYO4GH"
      },
      "source": [
        "## Sequence Type"
      ]
    },
    {
      "cell_type": "code",
      "metadata": {
        "id": "7RfPMyThO4GI"
      },
      "source": [
        "# List\n",
        "[]\n",
        "[1,2,3]\n",
        "['a',2,\"b\", True]\n",
        "[1,'a',[2,3,'b'],[2,['a']]]\n",
        "\n",
        "type([])"
      ],
      "execution_count": null,
      "outputs": []
    },
    {
      "cell_type": "code",
      "metadata": {
        "id": "rgY4ix7zO4GJ"
      },
      "source": [
        "# tuple\n",
        "()\n",
        "(1)\n",
        "(2,)\n",
        "(1,2)\n",
        "(1,2,3)\n",
        "(1,'a',2)\n",
        "(1,2,(2,3,4))\n",
        "(1,2,'a',[],3)\n"
      ],
      "execution_count": null,
      "outputs": []
    },
    {
      "cell_type": "markdown",
      "metadata": {
        "id": "kNPiKBSJO4GK"
      },
      "source": [
        "## Mutable and Immutable"
      ]
    },
    {
      "cell_type": "code",
      "metadata": {
        "id": "Natvfx5kO4GK"
      },
      "source": [
        "# Lists are Mutable\n",
        "x = [1,2]\n",
        "print(x)\n",
        "y = x\n",
        "y.append(3)\n",
        "\n",
        "print(x)\n",
        "print(y)"
      ],
      "execution_count": null,
      "outputs": []
    },
    {
      "cell_type": "markdown",
      "metadata": {
        "id": "M_AXgg7_O4GL"
      },
      "source": [
        "## Key value pairs"
      ]
    },
    {
      "cell_type": "code",
      "metadata": {
        "id": "1aGr_tnrO4GL",
        "outputId": "609a79ab-05d9-4024-b0cd-3cdd8a88a2cb"
      },
      "source": [
        "#Dictionaries\n",
        "{}\n",
        "{'key':1}\n",
        "{'key':'value'}\n",
        "{True:1, False:3}\n",
        "{1:2}\n",
        "{1.2:2.4}\n",
        "{1:'value'}\n",
        "{'key':[]}\n",
        "{'key':()}\n",
        "{1:'value', 'key':1, 'k':[], 'v':()}\n",
        "{'key':{1:'value'}, 1:[], 2:()}\n",
        "\n",
        "{[]:2}\n",
        "{{}:2}\n",
        "{():2}\n",
        "\n"
      ],
      "execution_count": null,
      "outputs": [
        {
          "data": {
            "text/plain": [
              "{True: 1, False: 3}"
            ]
          },
          "execution_count": 4,
          "metadata": {},
          "output_type": "execute_result"
        }
      ]
    },
    {
      "cell_type": "markdown",
      "metadata": {
        "id": "uJs-DwT7O4GM"
      },
      "source": [
        "### Set"
      ]
    },
    {
      "cell_type": "code",
      "metadata": {
        "id": "O0bYSBM_O4GM"
      },
      "source": [
        "{1,2,3}\n",
        "{1,2,3,3}\n",
        "{1,'a',{1,2}}\n",
        "{2,'a',[1,2]}"
      ],
      "execution_count": null,
      "outputs": []
    },
    {
      "cell_type": "code",
      "metadata": {
        "id": "z8ejdIrXO4GN"
      },
      "source": [
        ""
      ],
      "execution_count": null,
      "outputs": []
    }
  ]
}